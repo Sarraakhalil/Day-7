{
 "cells": [
  {
   "cell_type": "markdown",
   "id": "5ffb93ae",
   "metadata": {},
   "source": [
    "# Q1: Import numpy library"
   ]
  },
  {
   "cell_type": "code",
   "execution_count": 2,
   "id": "936d4703",
   "metadata": {},
   "outputs": [],
   "source": [
    "# write your code here ^_^\n",
    "import numpy as np"
   ]
  },
  {
   "cell_type": "markdown",
   "id": "b6991a89",
   "metadata": {},
   "source": [
    "# Q2: Generate a sequence of 15 floats using linspace() function"
   ]
  },
  {
   "cell_type": "code",
   "execution_count": 4,
   "id": "43bf04a5",
   "metadata": {},
   "outputs": [
    {
     "data": {
      "text/plain": [
       "array([0.        , 0.07142857, 0.14285714, 0.21428571, 0.28571429,\n",
       "       0.35714286, 0.42857143, 0.5       , 0.57142857, 0.64285714,\n",
       "       0.71428571, 0.78571429, 0.85714286, 0.92857143, 1.        ])"
      ]
     },
     "execution_count": 4,
     "metadata": {},
     "output_type": "execute_result"
    }
   ],
   "source": [
    "# write your code here ^_^\n",
    "#linspaceSynatx: numpy.linspace(start, stop, num=50, endpoint=True , \n",
    "#retstep=False, dtype=None, axis=0)\n",
    "\n",
    "sequence = np.linspace(0, 1, 15)\n",
    "sequence"
   ]
  },
  {
   "cell_type": "markdown",
   "id": "7144bba8",
   "metadata": {},
   "source": [
    "# Q3: Create a 3-D array in shape (2, 2, 3) containing the four arrays given below \n",
    "Note : the array's name is up to you.\n",
    "\n",
    "|      |       |          |         |\n",
    "|------| ----- | -------- | ------- |\n",
    "|arr1 | 1.1    | 2.1       | 3.1        |\n",
    "|arr2 | 4.1    | 5.1       | 6.1        |\n",
    "|arr3 | 7.1    | 8.1       | 9.1        |\n",
    "|arr4 | 10.1   | 11.1      | 12.1       |"
   ]
  },
  {
   "cell_type": "code",
   "execution_count": 66,
   "id": "c1c3f9dc",
   "metadata": {},
   "outputs": [
    {
     "data": {
      "text/plain": [
       "array([[['arr1', '1.1', '2.1', '3.1'],\n",
       "        ['arr2', '4.1', '5.1', '6.1']],\n",
       "\n",
       "       [['arr3', '7.1', '8.1', '9.1'],\n",
       "        ['arr4', '10.1', '11.1', '12.1']]], dtype='<U32')"
      ]
     },
     "execution_count": 66,
     "metadata": {},
     "output_type": "execute_result"
    }
   ],
   "source": [
    "# write your code here ^_^\n",
    "array1 = ['arr1',1.1,2.1,3.1]\n",
    "array2 = ['arr2',4.1,5.1,6.1]\n",
    "array3 = ['arr3',7.1,8.1,9.1]\n",
    "array4 = ['arr4',10.1,11.1,12.1]\n",
    "#array_3d = np.array([[['arr1',1.1,2.1,3.1],['arr2',4.1,5.1,6.1],\n",
    "#                     ['arr3',7.1,8.1,9.1],['arr4',10.1,11.1,12.1]]])\n",
    "array_3d = np.array([[array1,array2],[array3,array4]])\n",
    "array_3d"
   ]
  },
  {
   "cell_type": "markdown",
   "id": "807acbf6",
   "metadata": {},
   "source": [
    "# Q4: Print the following:\n",
    "Note: use the same array from Q3.\n",
    "- Array's type.\n",
    "- Array's elements datatype.\n",
    "- Array's shape.\n",
    "- Array's size.\n",
    "- Array's dimention."
   ]
  },
  {
   "cell_type": "code",
   "execution_count": 82,
   "id": "6e90d6a0",
   "metadata": {},
   "outputs": [
    {
     "data": {
      "text/plain": [
       "numpy.ndarray"
      ]
     },
     "execution_count": 82,
     "metadata": {},
     "output_type": "execute_result"
    }
   ],
   "source": [
    "# write your code here ^_^\n",
    "array_3d.dtype\n",
    "#array_3d.shape\n",
    "#array_3d.size\n",
    "#array_3d.ndim"
   ]
  },
  {
   "cell_type": "markdown",
   "id": "db4958b5",
   "metadata": {},
   "source": [
    "# Q5:  Change the array dimention from 3-D to 4-D\n",
    "Note: use the same array from Q3.\n",
    "- Create a new array to hold the changes. \n",
    "- Print the new array's dimention and shape."
   ]
  },
  {
   "cell_type": "code",
   "execution_count": 88,
   "id": "e9f5c88c",
   "metadata": {},
   "outputs": [
    {
     "data": {
      "text/plain": [
       "array([[['arr1', '1.1', '2.1', '3.1'],\n",
       "        ['arr2', '4.1', '5.1', '6.1']],\n",
       "\n",
       "       [['arr3', '7.1', '8.1', '9.1'],\n",
       "        ['arr4', '13.1', '14.1', '15.1']]], dtype='<U32')"
      ]
     },
     "execution_count": 88,
     "metadata": {},
     "output_type": "execute_result"
    }
   ],
   "source": [
    "# write your code here ^_^\n",
    "\n",
    "array_4d = np.array([[array1, array2],[array3, array4]])\n",
    "array_4d"
   ]
  },
  {
   "cell_type": "markdown",
   "id": "454f2504",
   "metadata": {},
   "source": [
    "# Q6: Change the array's elements datatype to integer  \n",
    "Note: use the same array from Q5.\n",
    "\n",
    "- Create a new array to hold the changes. \n",
    "- Print the new array."
   ]
  },
  {
   "cell_type": "code",
   "execution_count": 76,
   "id": "8135b045",
   "metadata": {},
   "outputs": [
    {
     "ename": "ValueError",
     "evalue": "invalid literal for int() with base 10: 'arr1'",
     "output_type": "error",
     "traceback": [
      "\u001b[0;31m---------------------------------------------------------------------------\u001b[0m",
      "\u001b[0;31mValueError\u001b[0m                                Traceback (most recent call last)",
      "Cell \u001b[0;32mIn[76], line 2\u001b[0m\n\u001b[1;32m      1\u001b[0m \u001b[38;5;66;03m# write your code here ^_^\u001b[39;00m\n\u001b[0;32m----> 2\u001b[0m change_int \u001b[38;5;241m=\u001b[39m array_4d\u001b[38;5;241m.\u001b[39mastype(\u001b[38;5;28mint\u001b[39m)\n",
      "\u001b[0;31mValueError\u001b[0m: invalid literal for int() with base 10: 'arr1'"
     ]
    }
   ],
   "source": [
    "# write your code here ^_^\n",
    "change_int = array_4d.astype(int)"
   ]
  },
  {
   "cell_type": "markdown",
   "id": "ab90badc",
   "metadata": {},
   "source": [
    "# Q7: Print all array's elements using for loop\n",
    "Note: use the same array from Q6.\n",
    "\n",
    "Hint: use nditer()"
   ]
  },
  {
   "cell_type": "code",
   "execution_count": 84,
   "id": "a0d58d15",
   "metadata": {},
   "outputs": [
    {
     "name": "stdout",
     "output_type": "stream",
     "text": [
      "arr1\n",
      "1.1\n",
      "2.1\n",
      "3.1\n",
      "arr2\n",
      "4.1\n",
      "5.1\n",
      "6.1\n",
      "arr3\n",
      "7.1\n",
      "8.1\n",
      "9.1\n",
      "arr4\n",
      "13.1\n",
      "14.1\n",
      "15.1\n"
     ]
    }
   ],
   "source": [
    "# write your code here ^_^\n",
    "for i in np.nditer(array_4d):\n",
    "    print(i)"
   ]
  },
  {
   "cell_type": "markdown",
   "id": "afa8b5f3",
   "metadata": {},
   "source": [
    "# Q8:  Print number 8 using array slicing\n",
    "Note: use the same array from Q6."
   ]
  },
  {
   "cell_type": "code",
   "execution_count": 100,
   "id": "6e12e2d7",
   "metadata": {},
   "outputs": [
    {
     "data": {
      "text/plain": [
       "'8.1'"
      ]
     },
     "execution_count": 100,
     "metadata": {},
     "output_type": "execute_result"
    }
   ],
   "source": [
    "# write your code here ^_^\n",
    "array_4d[ 1, 0, 2]"
   ]
  },
  {
   "cell_type": "markdown",
   "id": "e2e71895",
   "metadata": {},
   "source": [
    "# Q9: Print number 5 and number 6 using array slicing\n",
    "Note: use the same array from Q6."
   ]
  },
  {
   "cell_type": "code",
   "execution_count": 108,
   "id": "c3218bcb",
   "metadata": {},
   "outputs": [
    {
     "data": {
      "text/plain": [
       "'4.1'"
      ]
     },
     "execution_count": 108,
     "metadata": {},
     "output_type": "execute_result"
    }
   ],
   "source": [
    "# write your code here ^_^\n",
    "array_4d[0,1,-2]\n",
    "array_4d[0,1,-3]"
   ]
  },
  {
   "cell_type": "markdown",
   "id": "e5d63cd3",
   "metadata": {},
   "source": [
    "# Q10: Search for number 8 using where()\n",
    "Note: use the same array from Q6.\n",
    "\n",
    "Note: where() is only used with small data.\n",
    "\n",
    "*the output represents the path of the index that leads to number 8*"
   ]
  },
  {
   "cell_type": "code",
   "execution_count": 10,
   "id": "ddaf0146",
   "metadata": {},
   "outputs": [],
   "source": [
    "# write your code here ^_^"
   ]
  },
  {
   "cell_type": "markdown",
   "id": "c89f41ad",
   "metadata": {},
   "source": [
    "# Q11: Reshape the array as the following\n",
    "\n",
    "    array([[[ 1, 2],\n",
    "            [ 3,  4],\n",
    "            [ 5,  6]],\n",
    "\n",
    "           [[ 7,  8],\n",
    "            [ 9, 10],\n",
    "            [11, 12]]])\n",
    "            \n",
    " Note: use the same array from Q6."
   ]
  },
  {
   "cell_type": "code",
   "execution_count": 11,
   "id": "d9b632bd",
   "metadata": {},
   "outputs": [],
   "source": [
    "# write your code here ^_^"
   ]
  },
  {
   "cell_type": "markdown",
   "id": "539c16b1",
   "metadata": {},
   "source": [
    "# Q12: Join the given arrays below \n",
    "    arr1 = np.array([['A', 'B'], ['E', 'F']])\n",
    "    arr2 = np.array([['C', 'D'], ['G', 'H']])\n",
    "## Q12.1: Join the arrays without specifying the axis "
   ]
  },
  {
   "cell_type": "code",
   "execution_count": 126,
   "id": "d6acdeaf",
   "metadata": {},
   "outputs": [],
   "source": [
    "# write your code here ^_^\n",
    "arr1 = np.array([['A', 'B'], ['E', 'F']])\n",
    "arr2 = np.array([['C', 'D'], ['G', 'H']])\n",
    "join_array = np.vstack((arr1,arr1))\n"
   ]
  },
  {
   "cell_type": "markdown",
   "id": "1a37dd47",
   "metadata": {},
   "source": [
    "# Q12.2: Join the arrays along rows with axis = 1 "
   ]
  },
  {
   "cell_type": "code",
   "execution_count": 130,
   "id": "b849658c",
   "metadata": {},
   "outputs": [
    {
     "data": {
      "text/plain": [
       "array([['A', 'B', 'C', 'D'],\n",
       "       ['E', 'F', 'G', 'H']], dtype='<U1')"
      ]
     },
     "execution_count": 130,
     "metadata": {},
     "output_type": "execute_result"
    }
   ],
   "source": [
    "# write your code here ^_^\n",
    "join_axis = np.concatenate((arr1, arr2), axis=1)\n",
    "join_axis"
   ]
  },
  {
   "cell_type": "markdown",
   "id": "7296eecf",
   "metadata": {},
   "source": [
    "# Q13: Split the array into two arrays with axis = 1, each array should contain four arrays. \n",
    "Note: use the same array from Q12.1"
   ]
  },
  {
   "cell_type": "code",
   "execution_count": 134,
   "id": "7f7f5e49",
   "metadata": {},
   "outputs": [
    {
     "data": {
      "text/plain": [
       "[array([['A'],\n",
       "        ['E'],\n",
       "        ['A'],\n",
       "        ['E']], dtype='<U1'),\n",
       " array([['B'],\n",
       "        ['F'],\n",
       "        ['B'],\n",
       "        ['F']], dtype='<U1')]"
      ]
     },
     "execution_count": 134,
     "metadata": {},
     "output_type": "execute_result"
    }
   ],
   "source": [
    "# write your code here ^_^\n",
    "split_array = np.split(join_array, 2, axis=1)\n",
    "split_array"
   ]
  }
 ],
 "metadata": {
  "kernelspec": {
   "display_name": "Python 3 (ipykernel)",
   "language": "python",
   "name": "python3"
  },
  "language_info": {
   "codemirror_mode": {
    "name": "ipython",
    "version": 3
   },
   "file_extension": ".py",
   "mimetype": "text/x-python",
   "name": "python",
   "nbconvert_exporter": "python",
   "pygments_lexer": "ipython3",
   "version": "3.11.7"
  }
 },
 "nbformat": 4,
 "nbformat_minor": 5
}
